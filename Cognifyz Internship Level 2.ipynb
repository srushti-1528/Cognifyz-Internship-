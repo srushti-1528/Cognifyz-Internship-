{
 "cells": [
  {
   "cell_type": "markdown",
   "id": "d3596f97",
   "metadata": {},
   "source": [
    "# Congnifyz Internship Program\n",
    "\n",
    "## Restaurant Data Analysis"
   ]
  },
  {
   "cell_type": "markdown",
   "id": "a7a7db6c",
   "metadata": {},
   "source": [
    "-------------------"
   ]
  },
  {
   "cell_type": "markdown",
   "id": "677a0224-ac54-49f5-8b1d-d6bd2ef575b3",
   "metadata": {},
   "source": [
    "#### NAME : SRUSHTI BALKRISHNA PALEKAR"
   ]
  },
  {
   "cell_type": "markdown",
   "id": "0f9ff51c",
   "metadata": {},
   "source": [
    "### Level 2 : \n",
    "\n",
    "**Task 1 : Table Booking and Online Delivery**\n",
    "\n",
    "    - Determine the percentage of restaurants that offer table booking and online delivery.\n",
    "    \n",
    "    - Compare the average ratings of restaurants with table booking and those without.\n",
    "    \n",
    "    - Analyze the availability of online delivery among restaurants with different price ranges.\n",
    "    \n",
    "    \n",
    "**Task 2 : Price Range Analysis**\n",
    "\n",
    "    - Determine the most common price range among all the restaurants.\n",
    "    \n",
    "    - Calculate the average rating for each price range & Identify the color that represents the highest average rating \n",
    "    among different price ranges.\n",
    "    \n",
    "    \n",
    "**Task 3 : Feature Engineering**\n",
    "\n",
    "    - Extract additional features from the existing columns, such as the length of the restaurant name or address.\n",
    "    \n",
    "    - Create new features like \"Has Table Booking\"or \"Has Online Delivery\" by encoding categorical variables.\n",
    "    "
   ]
  },
  {
   "cell_type": "markdown",
   "id": "af4fe090",
   "metadata": {},
   "source": [
    "----------------"
   ]
  },
  {
   "cell_type": "code",
   "execution_count": 1,
   "id": "65945bf2",
   "metadata": {},
   "outputs": [],
   "source": [
    "# Importing the Warning\n",
    "\n",
    "import warnings\n",
    "warnings.filterwarnings(\"ignore\")"
   ]
  },
  {
   "cell_type": "code",
   "execution_count": 2,
   "id": "63b9255e",
   "metadata": {},
   "outputs": [],
   "source": [
    "# Importing the libraries which are we going to use for EDA\n",
    "\n",
    "import numpy as np\n",
    "import pandas as pd\n",
    "import matplotlib.pyplot as plt\n",
    "import seaborn as sns; sns.set(color_codes=True)\n",
    "%matplotlib inline"
   ]
  },
  {
   "cell_type": "code",
   "execution_count": 3,
   "id": "e051890f",
   "metadata": {},
   "outputs": [],
   "source": [
    "# Load the Dataset\n",
    "\n",
    "df1 = pd.read_csv(\"new_Dataset.csv\")  "
   ]
  },
  {
   "cell_type": "code",
   "execution_count": 4,
   "id": "3ab9cad5",
   "metadata": {},
   "outputs": [
    {
     "data": {
      "text/plain": [
       "Restaurant ID           0\n",
       "Restaurant Name         0\n",
       "Country Code            0\n",
       "City                    0\n",
       "Address                 0\n",
       "Locality                0\n",
       "Locality Verbose        0\n",
       "Longitude               0\n",
       "Latitude                0\n",
       "Cuisines                0\n",
       "Average Cost for two    0\n",
       "Currency                0\n",
       "Has Table booking       0\n",
       "Has Online delivery     0\n",
       "Is delivering now       0\n",
       "Switch to order menu    0\n",
       "Price range             0\n",
       "Aggregate rating        0\n",
       "Rating color            0\n",
       "Rating text             0\n",
       "Votes                   0\n",
       "dtype: int64"
      ]
     },
     "execution_count": 4,
     "metadata": {},
     "output_type": "execute_result"
    }
   ],
   "source": [
    "df1.isnull().sum()"
   ]
  },
  {
   "cell_type": "code",
   "execution_count": 5,
   "id": "2f514ab1",
   "metadata": {},
   "outputs": [
    {
     "name": "stdout",
     "output_type": "stream",
     "text": [
      "<class 'pandas.core.frame.DataFrame'>\n",
      "RangeIndex: 9551 entries, 0 to 9550\n",
      "Data columns (total 21 columns):\n",
      " #   Column                Non-Null Count  Dtype  \n",
      "---  ------                --------------  -----  \n",
      " 0   Restaurant ID         9551 non-null   int64  \n",
      " 1   Restaurant Name       9551 non-null   object \n",
      " 2   Country Code          9551 non-null   int64  \n",
      " 3   City                  9551 non-null   object \n",
      " 4   Address               9551 non-null   object \n",
      " 5   Locality              9551 non-null   object \n",
      " 6   Locality Verbose      9551 non-null   object \n",
      " 7   Longitude             9551 non-null   float64\n",
      " 8   Latitude              9551 non-null   float64\n",
      " 9   Cuisines              9551 non-null   object \n",
      " 10  Average Cost for two  9551 non-null   int64  \n",
      " 11  Currency              9551 non-null   object \n",
      " 12  Has Table booking     9551 non-null   object \n",
      " 13  Has Online delivery   9551 non-null   object \n",
      " 14  Is delivering now     9551 non-null   object \n",
      " 15  Switch to order menu  9551 non-null   object \n",
      " 16  Price range           9551 non-null   int64  \n",
      " 17  Aggregate rating      9551 non-null   float64\n",
      " 18  Rating color          9551 non-null   object \n",
      " 19  Rating text           9551 non-null   object \n",
      " 20  Votes                 9551 non-null   int64  \n",
      "dtypes: float64(3), int64(5), object(13)\n",
      "memory usage: 1.5+ MB\n"
     ]
    }
   ],
   "source": [
    "df1.info()"
   ]
  },
  {
   "cell_type": "markdown",
   "id": "2822965a",
   "metadata": {},
   "source": [
    "# Level 2 - Task 1:- \n",
    "\n",
    "## Task: Table Booking and Online Delivery"
   ]
  },
  {
   "cell_type": "markdown",
   "id": "ccdeae64",
   "metadata": {},
   "source": [
    "##### 1. Determine the percentage of restaurants that offer table booking and online delivery."
   ]
  },
  {
   "cell_type": "code",
   "execution_count": 6,
   "id": "823d12b9",
   "metadata": {},
   "outputs": [
    {
     "data": {
      "text/plain": [
       "No     8393\n",
       "Yes    1158\n",
       "Name: Has Table booking, dtype: int64"
      ]
     },
     "execution_count": 6,
     "metadata": {},
     "output_type": "execute_result"
    }
   ],
   "source": [
    "# Check for value counts\n",
    "\n",
    "df1[\"Has Table booking\"].value_counts()"
   ]
  },
  {
   "cell_type": "code",
   "execution_count": 7,
   "id": "b6c858b2",
   "metadata": {},
   "outputs": [
    {
     "data": {
      "text/plain": [
       "No     7100\n",
       "Yes    2451\n",
       "Name: Has Online delivery, dtype: int64"
      ]
     },
     "execution_count": 7,
     "metadata": {},
     "output_type": "execute_result"
    }
   ],
   "source": [
    "df1[\"Has Online delivery\"].value_counts()"
   ]
  },
  {
   "cell_type": "code",
   "execution_count": 8,
   "id": "b9621e64",
   "metadata": {},
   "outputs": [
    {
     "name": "stdout",
     "output_type": "stream",
     "text": [
      "Table Booking :  12.12 %\n",
      "Online Delivery :  25.66 %\n"
     ]
    }
   ],
   "source": [
    "print(\"Table Booking : \", round((1158/(8393+1158)) *100, 2),\"%\")\n",
    "\n",
    "print(\"Online Delivery : \", round((2451/(7100+2451)) *100, 2),\"%\")"
   ]
  },
  {
   "cell_type": "code",
   "execution_count": 9,
   "id": "2d1794fd",
   "metadata": {},
   "outputs": [],
   "source": [
    "# Another way to find the percentage"
   ]
  },
  {
   "cell_type": "code",
   "execution_count": 10,
   "id": "73795e72",
   "metadata": {},
   "outputs": [
    {
     "name": "stdout",
     "output_type": "stream",
     "text": [
      "Percentage of Restaurants offers table booking: 12.12 %\n",
      "\n",
      "Percentage of Restaurants offers online delivery: 25.66 %\n"
     ]
    }
   ],
   "source": [
    "# Number of restaurants offering table booking & online delivery\n",
    "\n",
    "table_booking = df1['Has Table booking'].value_counts().get('Yes')\n",
    "\n",
    "online_delivery = df1['Has Online delivery'].value_counts().get('Yes')\n",
    "\n",
    "# Calculate the percentage for table booking * online delivery\n",
    "\n",
    "percentage_table_booking = (table_booking / len(df1)) * 100\n",
    "\n",
    "percentage_online_delivery = (online_delivery / len(df1)) * 100\n",
    "\n",
    "print(f\"Percentage of Restaurants offers table booking: {percentage_table_booking:.2f} %\\n\")\n",
    "print(f\"Percentage of Restaurants offers online delivery: {percentage_online_delivery:.2f} %\")\n"
   ]
  },
  {
   "cell_type": "markdown",
   "id": "ef4772a7",
   "metadata": {},
   "source": [
    "##### 2. Compare the average ratings of restaurants with table booking and those without."
   ]
  },
  {
   "cell_type": "code",
   "execution_count": 11,
   "id": "228ebfe0",
   "metadata": {},
   "outputs": [
    {
     "name": "stdout",
     "output_type": "stream",
     "text": [
      "Rows With Table Booking : (1158, 21)\n",
      "Rows Without Table Booking : (8393, 21)\n"
     ]
    }
   ],
   "source": [
    "# Filter the DataFrame for rows with 'Yes' & 'No' in the 'Table Booking' column\n",
    "\n",
    "df_with_table_booking = df1[df1['Has Table booking'] == 'Yes']\n",
    "\n",
    "df_without_table_booking = df1[df1['Has Table booking'] == 'No']\n",
    "\n",
    "# After filtering rows with and without table booking\n",
    "\n",
    "print(\"Rows With Table Booking :\", df_with_table_booking.shape)\n",
    "\n",
    "print(\"Rows Without Table Booking :\", df_without_table_booking.shape)\n"
   ]
  },
  {
   "cell_type": "code",
   "execution_count": 12,
   "id": "54bd0dc9",
   "metadata": {},
   "outputs": [
    {
     "name": "stdout",
     "output_type": "stream",
     "text": [
      "Average Ratings:- \n",
      " With Table Booking :  3.44\n",
      " Without Table Booking :  2.56\n"
     ]
    }
   ],
   "source": [
    "# Average Ratings of Restaurants\n",
    "\n",
    "print(\"Average Ratings:- \")\n",
    "print(\" With Table Booking : \", round(df_with_table_booking[\"Aggregate rating\"].mean(),2))\n",
    "print(\" Without Table Booking : \", round(df_without_table_booking[\"Aggregate rating\"].mean(),2))"
   ]
  },
  {
   "cell_type": "markdown",
   "id": "29651cc4",
   "metadata": {},
   "source": [
    "##### 3. Analyze the availability of online delivery among restaurants with different price ranges."
   ]
  },
  {
   "cell_type": "code",
   "execution_count": 13,
   "id": "d5efeb68",
   "metadata": {},
   "outputs": [
    {
     "data": {
      "image/png": "[encoded data removed]",
      "text/plain": [
       "<Figure size 1000x600 with 1 Axes>"
      ]
     },
     "metadata": {},
     "output_type": "display_data"
    }
   ],
   "source": [
    "# Group by 'Price range' and calculate the percentage of restaurants with online delivery\n",
    "\n",
    "Online_Delivery_by_price_range = df1.groupby('Price range')['Has Online delivery'].value_counts(normalize=True).unstack() * 100\n",
    "\n",
    "Online_Delivery_by_price_range.plot(kind='bar', stacked=True, colormap='viridis', figsize=(10, 6))\n",
    "\n",
    "plt.title('Online Delivery Availability by Price Range')\n",
    "plt.xlabel('Price Range')\n",
    "plt.ylabel('Percentage of Restaurants with Online Delivery')\n",
    "plt.xticks(rotation = 0)\n",
    "plt.legend(title='Online Delivery', bbox_to_anchor=(1.05, 1))\n",
    "\n",
    "plt.show()\n"
   ]
  },
  {
   "cell_type": "code",
   "execution_count": 14,
   "id": "cafcd362",
   "metadata": {},
   "outputs": [
    {
     "data": {
      "image/png": "[encoded data removed]",
      "text/plain": [
       "<Figure size 1000x600 with 1 Axes>"
      ]
     },
     "metadata": {},
     "output_type": "display_data"
    }
   ],
   "source": [
    "# Taking only those restaurant with online Delivery available\n",
    "\n",
    "Online_Delivery_Yes = df1[df1['Has Online delivery'] == 'Yes']\n",
    "\n",
    "# Group by 'Price range' and calculate the percentage of restaurants with online delivery\n",
    "\n",
    "Online_Delivery_counts = Online_Delivery_Yes.groupby(['Price range', 'Has Online delivery']).size().unstack()\n",
    "\n",
    "Online_Delivery_counts.plot(kind='bar', stacked=True, colormap='cividis', figsize=(10, 6))\n",
    "plt.title('Online Delivery Availability by Price Range')\n",
    "plt.xlabel('Price Range')\n",
    "plt.ylabel('Number of Restaurants')\n",
    "plt.xticks(rotation = 0)\n",
    "plt.legend(title='Online Delivery', bbox_to_anchor=(1.05, 1), loc='upper left')\n",
    "\n",
    "plt.show()\n"
   ]
  },
  {
   "cell_type": "markdown",
   "id": "6b3b4406",
   "metadata": {},
   "source": [
    "-  From the above 1st graph we can see that most of the restaurant do not have the online delivery services.\n",
    "   In price range 1 less than 20 % are available, In price range 2 around 40 % are availabe, In price range 3 it look like 30 % are available and In price range 4 only 10 % are available.\n",
    "\n",
    "-  From the above 2nd graph, we can analyze, people used to buy from the Price range 2 and very less number of people buy food from Price range 4 may be because of its costliest in price compare to others."
   ]
  },
  {
   "cell_type": "markdown",
   "id": "b75be511",
   "metadata": {},
   "source": [
    "----------------"
   ]
  },
  {
   "cell_type": "markdown",
   "id": "ddee1f7b",
   "metadata": {},
   "source": [
    "# Level 2 - Task 2:- \n",
    "\n",
    "## Task: Price Range Analysis\n",
    "\n",
    "##### 1. Determine the most common price range among all the restaurants."
   ]
  },
  {
   "cell_type": "code",
   "execution_count": 15,
   "id": "470f1d1f",
   "metadata": {},
   "outputs": [
    {
     "data": {
      "text/plain": [
       "1    4444\n",
       "2    3113\n",
       "3    1408\n",
       "4     586\n",
       "Name: Price range, dtype: int64"
      ]
     },
     "execution_count": 15,
     "metadata": {},
     "output_type": "execute_result"
    }
   ],
   "source": [
    "df1[\"Price range\"].value_counts()"
   ]
  },
  {
   "cell_type": "code",
   "execution_count": 16,
   "id": "bcedf2ca",
   "metadata": {},
   "outputs": [
    {
     "name": "stdout",
     "output_type": "stream",
     "text": [
      "Most Common Price range among all the restaurant :  1\n"
     ]
    }
   ],
   "source": [
    "most_common = df1[\"Price range\"].mode()[0]\n",
    "\n",
    "print(\"Most Common Price range among all the restaurant : \", most_common)"
   ]
  },
  {
   "cell_type": "markdown",
   "id": "7addc8a0",
   "metadata": {},
   "source": [
    "##### 2. Calculate the average rating for each price range.\n",
    "\n",
    "    & Identify the color that represents the highest average rating among different price ranges."
   ]
  },
  {
   "cell_type": "code",
   "execution_count": 17,
   "id": "96f2b113",
   "metadata": {},
   "outputs": [
    {
     "name": "stdout",
     "output_type": "stream",
     "text": [
      "Average Rating for each price range :\n",
      "Price range\n",
      "1    2.00\n",
      "2    2.94\n",
      "3    3.68\n",
      "4    3.82\n",
      "Name: Aggregate rating, dtype: float64\n"
     ]
    }
   ],
   "source": [
    "Avg_Rating_by_price_range = df1.groupby('Price range')['Aggregate rating'].mean().round(2)\n",
    "\n",
    "print(\"Average Rating for each price range :\")\n",
    "print(Avg_Rating_by_price_range)\n"
   ]
  },
  {
   "cell_type": "code",
   "execution_count": 18,
   "id": "3fc94e0e",
   "metadata": {},
   "outputs": [
    {
     "data": {
      "image/png": "[encoded data removed]",
      "text/plain": [
       "<Figure size 640x480 with 1 Axes>"
      ]
     },
     "metadata": {},
     "output_type": "display_data"
    }
   ],
   "source": [
    "# Find the price range with the highest average rating\n",
    "highest_avg_rating_color = Avg_Rating_by_price_range.idxmax()\n",
    "\n",
    "plt.bar(Avg_Rating_by_price_range.index, Avg_Rating_by_price_range, color='skyblue', width=0.5)  \n",
    "\n",
    "plt.bar(highest_avg_rating_color, Avg_Rating_by_price_range[highest_avg_rating_color], color='green', width=0.5)\n",
    "\n",
    "plt.xlabel('Price Range')\n",
    "plt.ylabel('Average Rating')\n",
    "plt.title('Average Rating by Price Range')\n",
    "\n",
    "plt.show()\n"
   ]
  },
  {
   "cell_type": "markdown",
   "id": "f83b2815",
   "metadata": {},
   "source": [
    "- Price range 4 get the highest average rating, which is 3.82, followed by price range 3, 2 and 1"
   ]
  },
  {
   "cell_type": "markdown",
   "id": "659263c4",
   "metadata": {},
   "source": [
    "------------"
   ]
  },
  {
   "cell_type": "markdown",
   "id": "60a5973c",
   "metadata": {},
   "source": [
    "# Level 2 - Task 3:- \n",
    "\n",
    "## Task: Feature Engineering\n",
    "\n",
    "##### 1. Extract additional features from the existing columns, such as the length of the restaurant name or address."
   ]
  },
  {
   "cell_type": "code",
   "execution_count": 19,
   "id": "fc8be1f5",
   "metadata": {},
   "outputs": [],
   "source": [
    "# Extract the length of the restaurant name and address and create new columns\n",
    "\n",
    "df1['Restaurant Name Length'] = df1['Restaurant Name'].apply(lambda x: len(str(x)))\n",
    "\n",
    "df1['Address Length'] = df1['Address'].apply(lambda x: len(str(x)))\n"
   ]
  },
  {
   "cell_type": "code",
   "execution_count": 20,
   "id": "71dc4f1e",
   "metadata": {},
   "outputs": [
    {
     "data": {
      "text/html": [
       "<div>\n",
       "<style scoped>\n",
       "    .dataframe tbody tr th:only-of-type {\n",
       "        vertical-align: middle;\n",
       "    }\n",
       "\n",
       "    .dataframe tbody tr th {\n",
       "        vertical-align: top;\n",
       "    }\n",
       "\n",
       "    .dataframe thead th {\n",
       "        text-align: right;\n",
       "    }\n",
       "</style>\n",
       "<table border=\"1\" class=\"dataframe\">\n",
       "  <thead>\n",
       "    <tr style=\"text-align: right;\">\n",
       "      <th></th>\n",
       "      <th>Restaurant Name</th>\n",
       "      <th>Restaurant Name Length</th>\n",
       "      <th>Address</th>\n",
       "      <th>Address Length</th>\n",
       "    </tr>\n",
       "  </thead>\n",
       "  <tbody>\n",
       "    <tr>\n",
       "      <th>0</th>\n",
       "      <td>Le Petit Souffle</td>\n",
       "      <td>16</td>\n",
       "      <td>Third Floor, Century City Mall, Kalayaan Avenu...</td>\n",
       "      <td>71</td>\n",
       "    </tr>\n",
       "    <tr>\n",
       "      <th>1</th>\n",
       "      <td>Izakaya Kikufuji</td>\n",
       "      <td>16</td>\n",
       "      <td>Little Tokyo, 2277 Chino Roces Avenue, Legaspi...</td>\n",
       "      <td>67</td>\n",
       "    </tr>\n",
       "    <tr>\n",
       "      <th>2</th>\n",
       "      <td>Heat - Edsa Shangri-La</td>\n",
       "      <td>22</td>\n",
       "      <td>Edsa Shangri-La, 1 Garden Way, Ortigas, Mandal...</td>\n",
       "      <td>56</td>\n",
       "    </tr>\n",
       "    <tr>\n",
       "      <th>3</th>\n",
       "      <td>Ooma</td>\n",
       "      <td>4</td>\n",
       "      <td>Third Floor, Mega Fashion Hall, SM Megamall, O...</td>\n",
       "      <td>70</td>\n",
       "    </tr>\n",
       "    <tr>\n",
       "      <th>4</th>\n",
       "      <td>Sambo Kojin</td>\n",
       "      <td>11</td>\n",
       "      <td>Third Floor, Mega Atrium, SM Megamall, Ortigas...</td>\n",
       "      <td>64</td>\n",
       "    </tr>\n",
       "    <tr>\n",
       "      <th>...</th>\n",
       "      <td>...</td>\n",
       "      <td>...</td>\n",
       "      <td>...</td>\n",
       "      <td>...</td>\n",
       "    </tr>\n",
       "    <tr>\n",
       "      <th>9546</th>\n",
       "      <td>Naml۱ Gurme</td>\n",
       "      <td>11</td>\n",
       "      <td>Kemanke�� Karamustafa Pa��a Mahallesi, R۱ht۱m ...</td>\n",
       "      <td>103</td>\n",
       "    </tr>\n",
       "    <tr>\n",
       "      <th>9547</th>\n",
       "      <td>Ceviz A��ac۱</td>\n",
       "      <td>12</td>\n",
       "      <td>Ko��uyolu Mahallesi, Muhittin ��st�_nda�� Cadd...</td>\n",
       "      <td>77</td>\n",
       "    </tr>\n",
       "    <tr>\n",
       "      <th>9548</th>\n",
       "      <td>Huqqa</td>\n",
       "      <td>5</td>\n",
       "      <td>Kuru�_e��me Mahallesi, Muallim Naci Caddesi, N...</td>\n",
       "      <td>73</td>\n",
       "    </tr>\n",
       "    <tr>\n",
       "      <th>9549</th>\n",
       "      <td>A���k Kahve</td>\n",
       "      <td>11</td>\n",
       "      <td>Kuru�_e��me Mahallesi, Muallim Naci Caddesi, N...</td>\n",
       "      <td>75</td>\n",
       "    </tr>\n",
       "    <tr>\n",
       "      <th>9550</th>\n",
       "      <td>Walter's Coffee Roastery</td>\n",
       "      <td>24</td>\n",
       "      <td>Cafea��a Mahallesi, Bademalt۱ Sokak, No 21/B, ...</td>\n",
       "      <td>65</td>\n",
       "    </tr>\n",
       "  </tbody>\n",
       "</table>\n",
       "<p>9551 rows × 4 columns</p>\n",
       "</div>"
      ],
      "text/plain": [
       "               Restaurant Name  Restaurant Name Length  \\\n",
       "0             Le Petit Souffle                      16   \n",
       "1             Izakaya Kikufuji                      16   \n",
       "2       Heat - Edsa Shangri-La                      22   \n",
       "3                         Ooma                       4   \n",
       "4                  Sambo Kojin                      11   \n",
       "...                        ...                     ...   \n",
       "9546               Naml۱ Gurme                      11   \n",
       "9547              Ceviz A��ac۱                      12   \n",
       "9548                     Huqqa                       5   \n",
       "9549               A���k Kahve                      11   \n",
       "9550  Walter's Coffee Roastery                      24   \n",
       "\n",
       "                                                Address  Address Length  \n",
       "0     Third Floor, Century City Mall, Kalayaan Avenu...              71  \n",
       "1     Little Tokyo, 2277 Chino Roces Avenue, Legaspi...              67  \n",
       "2     Edsa Shangri-La, 1 Garden Way, Ortigas, Mandal...              56  \n",
       "3     Third Floor, Mega Fashion Hall, SM Megamall, O...              70  \n",
       "4     Third Floor, Mega Atrium, SM Megamall, Ortigas...              64  \n",
       "...                                                 ...             ...  \n",
       "9546  Kemanke�� Karamustafa Pa��a Mahallesi, R۱ht۱m ...             103  \n",
       "9547  Ko��uyolu Mahallesi, Muhittin ��st�_nda�� Cadd...              77  \n",
       "9548  Kuru�_e��me Mahallesi, Muallim Naci Caddesi, N...              73  \n",
       "9549  Kuru�_e��me Mahallesi, Muallim Naci Caddesi, N...              75  \n",
       "9550  Cafea��a Mahallesi, Bademalt۱ Sokak, No 21/B, ...              65  \n",
       "\n",
       "[9551 rows x 4 columns]"
      ]
     },
     "execution_count": 20,
     "metadata": {},
     "output_type": "execute_result"
    }
   ],
   "source": [
    "df1[['Restaurant Name', 'Restaurant Name Length', 'Address', 'Address Length']]"
   ]
  },
  {
   "cell_type": "markdown",
   "id": "957510fd",
   "metadata": {},
   "source": [
    "##### 2. Create new features like \"Has Table Booking\"or \"Has Online Delivery\" by encoding categorical variables."
   ]
  },
  {
   "cell_type": "code",
   "execution_count": 21,
   "id": "ce1c71e4",
   "metadata": {},
   "outputs": [],
   "source": [
    "# Creating new features \"Has Table Booking\" and \"Has Online Delivery\"\n",
    "\n",
    "df1['Has Table Booking'] = df1['Has Table booking'].apply(lambda x: 1 if x == 'Yes' else 0)\n",
    "\n",
    "df1['Has Online Delivery'] = df1['Has Online delivery'].apply(lambda x: 1 if x == 'Yes' else 0)\n"
   ]
  },
  {
   "cell_type": "code",
   "execution_count": 22,
   "id": "2028267f",
   "metadata": {},
   "outputs": [
    {
     "data": {
      "text/html": [
       "<div>\n",
       "<style scoped>\n",
       "    .dataframe tbody tr th:only-of-type {\n",
       "        vertical-align: middle;\n",
       "    }\n",
       "\n",
       "    .dataframe tbody tr th {\n",
       "        vertical-align: top;\n",
       "    }\n",
       "\n",
       "    .dataframe thead th {\n",
       "        text-align: right;\n",
       "    }\n",
       "</style>\n",
       "<table border=\"1\" class=\"dataframe\">\n",
       "  <thead>\n",
       "    <tr style=\"text-align: right;\">\n",
       "      <th></th>\n",
       "      <th>Has Table booking</th>\n",
       "      <th>Has Table Booking</th>\n",
       "      <th>Has Online delivery</th>\n",
       "      <th>Has Online Delivery</th>\n",
       "    </tr>\n",
       "  </thead>\n",
       "  <tbody>\n",
       "    <tr>\n",
       "      <th>0</th>\n",
       "      <td>Yes</td>\n",
       "      <td>1</td>\n",
       "      <td>No</td>\n",
       "      <td>0</td>\n",
       "    </tr>\n",
       "    <tr>\n",
       "      <th>1</th>\n",
       "      <td>Yes</td>\n",
       "      <td>1</td>\n",
       "      <td>No</td>\n",
       "      <td>0</td>\n",
       "    </tr>\n",
       "    <tr>\n",
       "      <th>2</th>\n",
       "      <td>Yes</td>\n",
       "      <td>1</td>\n",
       "      <td>No</td>\n",
       "      <td>0</td>\n",
       "    </tr>\n",
       "    <tr>\n",
       "      <th>3</th>\n",
       "      <td>No</td>\n",
       "      <td>0</td>\n",
       "      <td>No</td>\n",
       "      <td>0</td>\n",
       "    </tr>\n",
       "    <tr>\n",
       "      <th>4</th>\n",
       "      <td>Yes</td>\n",
       "      <td>1</td>\n",
       "      <td>No</td>\n",
       "      <td>0</td>\n",
       "    </tr>\n",
       "    <tr>\n",
       "      <th>...</th>\n",
       "      <td>...</td>\n",
       "      <td>...</td>\n",
       "      <td>...</td>\n",
       "      <td>...</td>\n",
       "    </tr>\n",
       "    <tr>\n",
       "      <th>9546</th>\n",
       "      <td>No</td>\n",
       "      <td>0</td>\n",
       "      <td>No</td>\n",
       "      <td>0</td>\n",
       "    </tr>\n",
       "    <tr>\n",
       "      <th>9547</th>\n",
       "      <td>No</td>\n",
       "      <td>0</td>\n",
       "      <td>No</td>\n",
       "      <td>0</td>\n",
       "    </tr>\n",
       "    <tr>\n",
       "      <th>9548</th>\n",
       "      <td>No</td>\n",
       "      <td>0</td>\n",
       "      <td>No</td>\n",
       "      <td>0</td>\n",
       "    </tr>\n",
       "    <tr>\n",
       "      <th>9549</th>\n",
       "      <td>No</td>\n",
       "      <td>0</td>\n",
       "      <td>No</td>\n",
       "      <td>0</td>\n",
       "    </tr>\n",
       "    <tr>\n",
       "      <th>9550</th>\n",
       "      <td>No</td>\n",
       "      <td>0</td>\n",
       "      <td>No</td>\n",
       "      <td>0</td>\n",
       "    </tr>\n",
       "  </tbody>\n",
       "</table>\n",
       "<p>9551 rows × 4 columns</p>\n",
       "</div>"
      ],
      "text/plain": [
       "     Has Table booking  Has Table Booking Has Online delivery  \\\n",
       "0                  Yes                  1                  No   \n",
       "1                  Yes                  1                  No   \n",
       "2                  Yes                  1                  No   \n",
       "3                   No                  0                  No   \n",
       "4                  Yes                  1                  No   \n",
       "...                ...                ...                 ...   \n",
       "9546                No                  0                  No   \n",
       "9547                No                  0                  No   \n",
       "9548                No                  0                  No   \n",
       "9549                No                  0                  No   \n",
       "9550                No                  0                  No   \n",
       "\n",
       "      Has Online Delivery  \n",
       "0                       0  \n",
       "1                       0  \n",
       "2                       0  \n",
       "3                       0  \n",
       "4                       0  \n",
       "...                   ...  \n",
       "9546                    0  \n",
       "9547                    0  \n",
       "9548                    0  \n",
       "9549                    0  \n",
       "9550                    0  \n",
       "\n",
       "[9551 rows x 4 columns]"
      ]
     },
     "execution_count": 22,
     "metadata": {},
     "output_type": "execute_result"
    }
   ],
   "source": [
    "df1[['Has Table booking', 'Has Table Booking', 'Has Online delivery', 'Has Online Delivery']]"
   ]
  },
  {
   "cell_type": "markdown",
   "id": "52146ec5",
   "metadata": {},
   "source": [
    "-  Two new columns added, 'Restaurant Name length' and 'Address Length' from the length of the restaurant name or address\n",
    "-  And also two new binary column added by encoding categorical variables, 'Has Table booking' and 'Has Online delivery'"
   ]
  },
  {
   "cell_type": "code",
   "execution_count": null,
   "id": "550aaceb",
   "metadata": {},
   "outputs": [],
   "source": []
  },
  {
   "cell_type": "markdown",
   "id": "e00f517c",
   "metadata": {},
   "source": [
    "## OBSERVATION :\n"
   ]
  },
  {
   "cell_type": "markdown",
   "id": "ea0f0eb3",
   "metadata": {},
   "source": [
    "-  Percentage of Restaurants offers table booking is 12.12 % &Percentage of Restaurants offers online delivery is 25.66 %.\n",
    "\n",
    "-  Average Ratings With Table Booking is 3.44 & Without Table Booking is 2.56.\n",
    "\n",
    "-  Most of the restaurant do not have the online delivery services. In price range 1 less than 20 % are available, In price range 2 around 40 % are availabe, In price range 3 it look like 30 % are available and In price range 4 only 10 % are available.\n",
    "\n",
    "-  People mostly buy from the Price range 2 and very less number of people buy food from Price range 4 may be because of its costliest in price compare to others.\n",
    "\n",
    "-  Most Common Price range among all the restaurant is  1.\n",
    "\n",
    "-  Price range 4 get the highest average rating, which is 3.82, followed by price range 3, 2 and 1.\n"
   ]
  },
  {
   "cell_type": "code",
   "execution_count": null,
   "id": "82db14f6",
   "metadata": {},
   "outputs": [],
   "source": []
  }
 ],
 "metadata": {
  "kernelspec": {
   "display_name": "Python [conda env:base] *",
   "language": "python",
   "name": "conda-base-py"
  },
  "language_info": {
   "codemirror_mode": {
    "name": "ipython",
    "version": 3
   },
   "file_extension": ".py",
   "mimetype": "text/x-python",
   "name": "python",
   "nbconvert_exporter": "python",
   "pygments_lexer": "ipython3",
   "version": "3.12.7"
  }
 },
 "nbformat": 4,
 "nbformat_minor": 5
}
